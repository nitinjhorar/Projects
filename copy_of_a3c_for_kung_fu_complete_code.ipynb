{
  "cells": [
    {
      "cell_type": "markdown",
      "metadata": {
        "id": "dIo6Zkp7U1Hq"
      },
      "source": [
        "# A3C for Kung Fu"
      ]
    },
    {
      "cell_type": "markdown",
      "metadata": {
        "id": "pz8ogVxGVB6b"
      },
      "source": [
        "## Part 0 - Installing the required packages and importing the libraries"
      ]
    },
    {
      "cell_type": "markdown",
      "metadata": {
        "id": "CqN2IEX1VKzi"
      },
      "source": [
        "### Installing Gymnasium"
      ]
    },
    {
      "cell_type": "code",
      "execution_count": null,
      "metadata": {
        "id": "dbnq3XpoKa_7",
        "colab": {
          "base_uri": "https://localhost:8080/"
        },
        "outputId": "f9a4de42-18af-42d3-c2b9-bbc7e0147619"
      },
      "outputs": [
        {
          "output_type": "stream",
          "name": "stdout",
          "text": [
            "Collecting gymnasium\n",
            "  Downloading gymnasium-0.29.1-py3-none-any.whl (953 kB)\n",
            "\u001b[2K     \u001b[90m━━━━━━━━━━━━━━━━━━━━━━━━━━━━━━━━━━━━━━━━\u001b[0m \u001b[32m953.9/953.9 kB\u001b[0m \u001b[31m6.9 MB/s\u001b[0m eta \u001b[36m0:00:00\u001b[0m\n",
            "\u001b[?25hRequirement already satisfied: numpy>=1.21.0 in /usr/local/lib/python3.10/dist-packages (from gymnasium) (1.23.5)\n",
            "Requirement already satisfied: cloudpickle>=1.2.0 in /usr/local/lib/python3.10/dist-packages (from gymnasium) (2.2.1)\n",
            "Requirement already satisfied: typing-extensions>=4.3.0 in /usr/local/lib/python3.10/dist-packages (from gymnasium) (4.5.0)\n",
            "Collecting farama-notifications>=0.0.1 (from gymnasium)\n",
            "  Downloading Farama_Notifications-0.0.4-py3-none-any.whl (2.5 kB)\n",
            "Installing collected packages: farama-notifications, gymnasium\n",
            "Successfully installed farama-notifications-0.0.4 gymnasium-0.29.1\n",
            "Requirement already satisfied: gymnasium[accept-rom-license,atari] in /usr/local/lib/python3.10/dist-packages (0.29.1)\n",
            "Requirement already satisfied: numpy>=1.21.0 in /usr/local/lib/python3.10/dist-packages (from gymnasium[accept-rom-license,atari]) (1.23.5)\n",
            "Requirement already satisfied: cloudpickle>=1.2.0 in /usr/local/lib/python3.10/dist-packages (from gymnasium[accept-rom-license,atari]) (2.2.1)\n",
            "Requirement already satisfied: typing-extensions>=4.3.0 in /usr/local/lib/python3.10/dist-packages (from gymnasium[accept-rom-license,atari]) (4.5.0)\n",
            "Requirement already satisfied: farama-notifications>=0.0.1 in /usr/local/lib/python3.10/dist-packages (from gymnasium[accept-rom-license,atari]) (0.0.4)\n",
            "Collecting shimmy[atari]<1.0,>=0.1.0 (from gymnasium[accept-rom-license,atari])\n",
            "  Downloading Shimmy-0.2.1-py3-none-any.whl (25 kB)\n",
            "Collecting autorom[accept-rom-license]~=0.4.2 (from gymnasium[accept-rom-license,atari])\n",
            "  Downloading AutoROM-0.4.2-py3-none-any.whl (16 kB)\n",
            "Requirement already satisfied: click in /usr/local/lib/python3.10/dist-packages (from autorom[accept-rom-license]~=0.4.2->gymnasium[accept-rom-license,atari]) (8.1.7)\n",
            "Requirement already satisfied: requests in /usr/local/lib/python3.10/dist-packages (from autorom[accept-rom-license]~=0.4.2->gymnasium[accept-rom-license,atari]) (2.31.0)\n",
            "Requirement already satisfied: tqdm in /usr/local/lib/python3.10/dist-packages (from autorom[accept-rom-license]~=0.4.2->gymnasium[accept-rom-license,atari]) (4.66.1)\n",
            "Collecting AutoROM.accept-rom-license (from autorom[accept-rom-license]~=0.4.2->gymnasium[accept-rom-license,atari])\n",
            "  Downloading AutoROM.accept-rom-license-0.6.1.tar.gz (434 kB)\n",
            "\u001b[2K     \u001b[90m━━━━━━━━━━━━━━━━━━━━━━━━━━━━━━━━━━━━━━━━\u001b[0m \u001b[32m434.7/434.7 kB\u001b[0m \u001b[31m2.3 MB/s\u001b[0m eta \u001b[36m0:00:00\u001b[0m\n",
            "\u001b[?25h  Installing build dependencies ... \u001b[?25l\u001b[?25hdone\n",
            "  Getting requirements to build wheel ... \u001b[?25l\u001b[?25hdone\n",
            "  Preparing metadata (pyproject.toml) ... \u001b[?25l\u001b[?25hdone\n",
            "Collecting ale-py~=0.8.1 (from shimmy[atari]<1.0,>=0.1.0->gymnasium[accept-rom-license,atari])\n",
            "  Downloading ale_py-0.8.1-cp310-cp310-manylinux_2_17_x86_64.manylinux2014_x86_64.whl (1.7 MB)\n",
            "\u001b[2K     \u001b[90m━━━━━━━━━━━━━━━━━━━━━━━━━━━━━━━━━━━━━━━━\u001b[0m \u001b[32m1.7/1.7 MB\u001b[0m \u001b[31m10.3 MB/s\u001b[0m eta \u001b[36m0:00:00\u001b[0m\n",
            "\u001b[?25hRequirement already satisfied: importlib-resources in /usr/local/lib/python3.10/dist-packages (from ale-py~=0.8.1->shimmy[atari]<1.0,>=0.1.0->gymnasium[accept-rom-license,atari]) (6.1.1)\n",
            "Requirement already satisfied: charset-normalizer<4,>=2 in /usr/local/lib/python3.10/dist-packages (from requests->autorom[accept-rom-license]~=0.4.2->gymnasium[accept-rom-license,atari]) (3.3.2)\n",
            "Requirement already satisfied: idna<4,>=2.5 in /usr/local/lib/python3.10/dist-packages (from requests->autorom[accept-rom-license]~=0.4.2->gymnasium[accept-rom-license,atari]) (3.6)\n",
            "Requirement already satisfied: urllib3<3,>=1.21.1 in /usr/local/lib/python3.10/dist-packages (from requests->autorom[accept-rom-license]~=0.4.2->gymnasium[accept-rom-license,atari]) (2.0.7)\n",
            "Requirement already satisfied: certifi>=2017.4.17 in /usr/local/lib/python3.10/dist-packages (from requests->autorom[accept-rom-license]~=0.4.2->gymnasium[accept-rom-license,atari]) (2023.11.17)\n",
            "Building wheels for collected packages: AutoROM.accept-rom-license\n",
            "  Building wheel for AutoROM.accept-rom-license (pyproject.toml) ... \u001b[?25l\u001b[?25hdone\n",
            "  Created wheel for AutoROM.accept-rom-license: filename=AutoROM.accept_rom_license-0.6.1-py3-none-any.whl size=446660 sha256=3f6e6bd54b3468402de242888d35d02bee9148179a0e797382ee233f2c43af94\n",
            "  Stored in directory: /root/.cache/pip/wheels/6b/1b/ef/a43ff1a2f1736d5711faa1ba4c1f61be1131b8899e6a057811\n",
            "Successfully built AutoROM.accept-rom-license\n",
            "Installing collected packages: ale-py, shimmy, AutoROM.accept-rom-license, autorom\n",
            "Successfully installed AutoROM.accept-rom-license-0.6.1 ale-py-0.8.1 autorom-0.4.2 shimmy-0.2.1\n",
            "Reading package lists... Done\n",
            "Building dependency tree... Done\n",
            "Reading state information... Done\n",
            "The following additional packages will be installed:\n",
            "  swig4.0\n",
            "Suggested packages:\n",
            "  swig-doc swig-examples swig4.0-examples swig4.0-doc\n",
            "The following NEW packages will be installed:\n",
            "  swig swig4.0\n",
            "0 upgraded, 2 newly installed, 0 to remove and 24 not upgraded.\n",
            "Need to get 1,116 kB of archives.\n",
            "After this operation, 5,542 kB of additional disk space will be used.\n",
            "Get:1 http://archive.ubuntu.com/ubuntu jammy/universe amd64 swig4.0 amd64 4.0.2-1ubuntu1 [1,110 kB]\n",
            "Get:2 http://archive.ubuntu.com/ubuntu jammy/universe amd64 swig all 4.0.2-1ubuntu1 [5,632 B]\n",
            "Fetched 1,116 kB in 0s (2,768 kB/s)\n",
            "Selecting previously unselected package swig4.0.\n",
            "(Reading database ... 121654 files and directories currently installed.)\n",
            "Preparing to unpack .../swig4.0_4.0.2-1ubuntu1_amd64.deb ...\n",
            "Unpacking swig4.0 (4.0.2-1ubuntu1) ...\n",
            "Selecting previously unselected package swig.\n",
            "Preparing to unpack .../swig_4.0.2-1ubuntu1_all.deb ...\n",
            "Unpacking swig (4.0.2-1ubuntu1) ...\n",
            "Setting up swig4.0 (4.0.2-1ubuntu1) ...\n",
            "Setting up swig (4.0.2-1ubuntu1) ...\n",
            "Processing triggers for man-db (2.10.2-1) ...\n",
            "Requirement already satisfied: gymnasium[box2d] in /usr/local/lib/python3.10/dist-packages (0.29.1)\n",
            "Requirement already satisfied: numpy>=1.21.0 in /usr/local/lib/python3.10/dist-packages (from gymnasium[box2d]) (1.23.5)\n",
            "Requirement already satisfied: cloudpickle>=1.2.0 in /usr/local/lib/python3.10/dist-packages (from gymnasium[box2d]) (2.2.1)\n",
            "Requirement already satisfied: typing-extensions>=4.3.0 in /usr/local/lib/python3.10/dist-packages (from gymnasium[box2d]) (4.5.0)\n",
            "Requirement already satisfied: farama-notifications>=0.0.1 in /usr/local/lib/python3.10/dist-packages (from gymnasium[box2d]) (0.0.4)\n",
            "Collecting box2d-py==2.3.5 (from gymnasium[box2d])\n",
            "  Downloading box2d-py-2.3.5.tar.gz (374 kB)\n",
            "\u001b[2K     \u001b[90m━━━━━━━━━━━━━━━━━━━━━━━━━━━━━━━━━━━━━━━━\u001b[0m \u001b[32m374.4/374.4 kB\u001b[0m \u001b[31m5.0 MB/s\u001b[0m eta \u001b[36m0:00:00\u001b[0m\n",
            "\u001b[?25h  Preparing metadata (setup.py) ... \u001b[?25l\u001b[?25hdone\n",
            "Requirement already satisfied: pygame>=2.1.3 in /usr/local/lib/python3.10/dist-packages (from gymnasium[box2d]) (2.5.2)\n",
            "Collecting swig==4.* (from gymnasium[box2d])\n",
            "  Downloading swig-4.1.1.post1-py2.py3-none-manylinux_2_5_x86_64.manylinux1_x86_64.whl (1.8 MB)\n",
            "\u001b[2K     \u001b[90m━━━━━━━━━━━━━━━━━━━━━━━━━━━━━━━━━━━━━━━━\u001b[0m \u001b[32m1.8/1.8 MB\u001b[0m \u001b[31m11.2 MB/s\u001b[0m eta \u001b[36m0:00:00\u001b[0m\n",
            "\u001b[?25hBuilding wheels for collected packages: box2d-py\n",
            "  Building wheel for box2d-py (setup.py) ... \u001b[?25l\u001b[?25hdone\n",
            "  Created wheel for box2d-py: filename=box2d_py-2.3.5-cp310-cp310-linux_x86_64.whl size=2349117 sha256=cce8db2ac81dd93df36a88b4376fe090038a2c8c94e26ea0e36f08574735e532\n",
            "  Stored in directory: /root/.cache/pip/wheels/db/8f/6a/eaaadf056fba10a98d986f6dce954e6201ba3126926fc5ad9e\n",
            "Successfully built box2d-py\n",
            "Installing collected packages: swig, box2d-py\n",
            "Successfully installed box2d-py-2.3.5 swig-4.1.1.post1\n"
          ]
        }
      ],
      "source": [
        "!pip install gymnasium\n",
        "!pip install \"gymnasium[atari, accept-rom-license]\"\n",
        "!apt-get install -y swig\n",
        "!pip install gymnasium[box2d]"
      ]
    },
    {
      "cell_type": "markdown",
      "metadata": {
        "id": "BrsNHNQqVZLK"
      },
      "source": [
        "### Importing the libraries"
      ]
    },
    {
      "cell_type": "code",
      "execution_count": null,
      "metadata": {
        "id": "Ho_25-9_9qnu"
      },
      "outputs": [],
      "source": [
        "import cv2\n",
        "import math\n",
        "import random\n",
        "import numpy as np\n",
        "import torch\n",
        "import torch.nn as nn\n",
        "import torch.optim as optim\n",
        "import torch.nn.functional as F\n",
        "import torch.multiprocessing as mp\n",
        "import torch.distributions as distributions\n",
        "from torch.distributions import Categorical\n",
        "import gymnasium as gym\n",
        "from gymnasium import ObservationWrapper\n",
        "from gymnasium.spaces import Box"
      ]
    },
    {
      "cell_type": "markdown",
      "metadata": {
        "id": "VF6EFSGUVlk2"
      },
      "source": [
        "## Part 1 - Building the AI"
      ]
    },
    {
      "cell_type": "markdown",
      "metadata": {
        "id": "qyNc8cxbZCYP"
      },
      "source": [
        "### Creating the architecture of the Neural Network"
      ]
    },
    {
      "cell_type": "code",
      "source": [
        "class Network(nn.Module):\n",
        "\n",
        "  def __init__(self,action_size):\n",
        "    super(Network , self).__init__()\n",
        "    self.conv1 = torch.nn.Conv2d(in_channels =4 , out_channels = 32 , kernel_size= (3,3) , stride =2)\n",
        "    self.conv2 = torch.nn.Conv2d(in_channels = 32 ,out_channels =32 , kernel_size = (3,3) , stride =2)\n",
        "    self.conv3 = torch.nn.Conv2d(in_channels = 32 , out_channels = 32 , kernel_size = (3,3) , stride =2)\n",
        "    self.flatten = torch.nn.Flatten()\n",
        "    self.fc1 = torch.nn.Linear( 512 , 128)\n",
        "    self.fc2a = torch.nn.Linear(128 , action_size)\n",
        "    self.fc2s = torch.nn.Linear(128 , 1)\n",
        "\n",
        "  def forward(self,state):\n",
        "    x = self.conv1(state)\n",
        "    x = F.relu(x)\n",
        "    x = self.conv2(x)\n",
        "    x = F.relu(x)\n",
        "    x = self.conv3(x)\n",
        "    x = F.relu(x)\n",
        "    x = self.flatten(x)\n",
        "    x = self.fc1(x)\n",
        "    x = F.relu(x)\n",
        "    action_values = self.fc2a(x)\n",
        "    state_value = self.fc2s(x)[0]\n",
        "    return action_values , state_value"
      ],
      "metadata": {
        "colab": {
          "base_uri": "https://localhost:8080/"
        },
        "id": "tbAaqcPg0dQy",
        "outputId": "c632d15d-4870-4164-a839-cbae043f2f71"
      },
      "execution_count": null,
      "outputs": [
        {
          "output_type": "stream",
          "name": "stderr",
          "text": [
            "/usr/local/lib/python3.10/dist-packages/ipykernel/ipkernel.py:283: DeprecationWarning: `should_run_async` will not call `transform_cell` automatically in the future. Please pass the result to `transformed_cell` argument and any exception that happen during thetransform in `preprocessing_exc_tuple` in IPython 7.17 and above.\n",
            "  and should_run_async(code)\n"
          ]
        }
      ]
    },
    {
      "cell_type": "markdown",
      "metadata": {
        "id": "eF5bETqbZbCG"
      },
      "source": [
        "## Part 2 - Training the AI"
      ]
    },
    {
      "cell_type": "markdown",
      "metadata": {
        "id": "3C2ydyKLZgaK"
      },
      "source": [
        "### Setting up the environment"
      ]
    },
    {
      "cell_type": "code",
      "source": [
        "class PreprocessAtari(ObservationWrapper):\n",
        "\n",
        "  def __init__(self, env, height = 42, width = 42, crop = lambda img: img, dim_order = 'pytorch', color = False, n_frames = 4):\n",
        "    super(PreprocessAtari, self).__init__(env)\n",
        "    self.img_size = (height, width)\n",
        "    self.crop = crop\n",
        "    self.dim_order = dim_order\n",
        "    self.color = color\n",
        "    self.frame_stack = n_frames\n",
        "    n_channels = 3 * n_frames if color else n_frames\n",
        "    obs_shape = {'tensorflow': (height, width, n_channels), 'pytorch': (n_channels, height, width)}[dim_order]\n",
        "    self.observation_space = Box(0.0, 1.0, obs_shape)\n",
        "    self.frames = np.zeros(obs_shape, dtype = np.float32)\n",
        "\n",
        "  def reset(self):\n",
        "    self.frames = np.zeros_like(self.frames)\n",
        "    obs, info = self.env.reset()\n",
        "    self.update_buffer(obs)\n",
        "    return self.frames, info\n",
        "\n",
        "  def observation(self, img):\n",
        "    img = self.crop(img)\n",
        "    img = cv2.resize(img, self.img_size)\n",
        "    if not self.color:\n",
        "      if len(img.shape) == 3 and img.shape[2] == 3:\n",
        "        img = cv2.cvtColor(img, cv2.COLOR_BGR2GRAY)\n",
        "    img = img.astype('float32') / 255.\n",
        "    if self.color:\n",
        "      self.frames = np.roll(self.frames, shift = -3, axis = 0)\n",
        "    else:\n",
        "      self.frames = np.roll(self.frames, shift = -1, axis = 0)\n",
        "    if self.color:\n",
        "      self.frames[-3:] = img\n",
        "    else:\n",
        "      self.frames[-1] = img\n",
        "    return self.frames\n",
        "\n",
        "  def update_buffer(self, obs):\n",
        "    self.frames = self.observation(obs)\n",
        "\n",
        "def make_env():\n",
        "  env = gym.make(\"KungFuMasterDeterministic-v0\", render_mode = 'rgb_array')\n",
        "  env = PreprocessAtari(env, height = 42, width = 42, crop = lambda img: img, dim_order = 'pytorch', color = False, n_frames = 4)\n",
        "  return env\n",
        "\n",
        "env = make_env()\n",
        "\n",
        "state_shape = env.observation_space.shape\n",
        "number_actions = env.action_space.n\n",
        "print(\"State shape:\", state_shape)\n",
        "print(\"Number actions:\", number_actions)\n",
        "print(\"Action names:\", env.env.env.get_action_meanings())"
      ],
      "metadata": {
        "colab": {
          "base_uri": "https://localhost:8080/"
        },
        "id": "siYLcK_F3SPe",
        "outputId": "be178c0f-36b1-4711-d32d-db8e30f5bd47"
      },
      "execution_count": null,
      "outputs": [
        {
          "output_type": "stream",
          "name": "stderr",
          "text": [
            "/usr/local/lib/python3.10/dist-packages/gymnasium/envs/registration.py:513: DeprecationWarning: \u001b[33mWARN: The environment KungFuMasterDeterministic-v0 is out of date. You should consider upgrading to version `v4`.\u001b[0m\n",
            "  logger.deprecation(\n"
          ]
        },
        {
          "output_type": "stream",
          "name": "stdout",
          "text": [
            "State shape: (4, 42, 42)\n",
            "Number actions: 14\n",
            "Action names: ['NOOP', 'UP', 'RIGHT', 'LEFT', 'DOWN', 'DOWNRIGHT', 'DOWNLEFT', 'RIGHTFIRE', 'LEFTFIRE', 'DOWNFIRE', 'UPRIGHTFIRE', 'UPLEFTFIRE', 'DOWNRIGHTFIRE', 'DOWNLEFTFIRE']\n"
          ]
        },
        {
          "output_type": "stream",
          "name": "stderr",
          "text": [
            "/usr/local/lib/python3.10/dist-packages/gymnasium/core.py:311: UserWarning: \u001b[33mWARN: env.get_action_meanings to get variables from other wrappers is deprecated and will be removed in v1.0, to get this variable you can do `env.unwrapped.get_action_meanings` for environment variables or `env.get_wrapper_attr('get_action_meanings')` that will search the reminding wrappers.\u001b[0m\n",
            "  logger.warn(\n"
          ]
        }
      ]
    },
    {
      "cell_type": "markdown",
      "metadata": {
        "id": "YgRlooBmC1hr"
      },
      "source": [
        "### Initializing the hyperparameters"
      ]
    },
    {
      "cell_type": "code",
      "source": [
        "learning_rate = 1e-4\n",
        "discount_factor = 0.99\n",
        "number_environments = 10"
      ],
      "metadata": {
        "colab": {
          "base_uri": "https://localhost:8080/"
        },
        "id": "ERYGcDs23XXl",
        "outputId": "456bb977-9df1-480e-c347-ccc83828bb3b"
      },
      "execution_count": null,
      "outputs": [
        {
          "output_type": "stream",
          "name": "stderr",
          "text": [
            "/usr/local/lib/python3.10/dist-packages/ipykernel/ipkernel.py:283: DeprecationWarning: `should_run_async` will not call `transform_cell` automatically in the future. Please pass the result to `transformed_cell` argument and any exception that happen during thetransform in `preprocessing_exc_tuple` in IPython 7.17 and above.\n",
            "  and should_run_async(code)\n"
          ]
        }
      ]
    },
    {
      "cell_type": "markdown",
      "metadata": {
        "id": "Gg_LmSs9IoTX"
      },
      "source": [
        "### Implementing the A3C class"
      ]
    },
    {
      "cell_type": "code",
      "source": [
        "class Agent():\n",
        "\n",
        "  def __init__(self , action_size):\n",
        "    self.device = torch.device(\"cuda:0\" if torch.cuda.is_available() else \"cpu\")\n",
        "    self.action_size = action_size\n",
        "    self.network = Network(action_size).to(self.device)\n",
        "    self.optimizer = torch.optim.Adam(self.network.parameters() , lr = learning_rate)\n",
        "\n",
        "  def act(self,state):\n",
        "    if state.ndim ==3:\n",
        "      state = [state]\n",
        "    state = torch.tensor(state , dtype=torch.float32 , device = self.device)\n",
        "    action_values , _ = self.network.forward(state)\n",
        "    policy = F.softmax(action_values , dim =-1)\n",
        "    return np.array([np.random.choice(len(p) , p=p) for p in policy.detach().cpu().numpy()])\n",
        "\n",
        "  def step(self , state , action , reward , next_state , done):\n",
        "    batch_size = state.shape[0]\n",
        "    state = torch.tensor(state , dtype = torch.float32 , device = self.device)\n",
        "    next_state = torch.tensor(next_state , dtype = torch.float32 , device = self.device)\n",
        "    reward = torch.tensor(reward , dtype = torch.float32 , device = self.device)\n",
        "    done = torch.tensor(done , dtype = torch.bool , device = self.device).to(dtype = torch.float32)\n",
        "    action_values , state_value = self.network(state)\n",
        "    _ , next_state_value = self.network(next_state)\n",
        "    target_state_value = reward + discount_factor * next_state_value * (1-done)\n",
        "    advantage = target_state_value - state_value\n",
        "    probs = F.softmax(action_values , dim =-1)\n",
        "    logprobs = F.log_softmax(action_values , dim =-1)\n",
        "    entropy = -torch.sum(probs * logprobs , axis =-1)\n",
        "    batch_idx = np.arange(batch_size)\n",
        "    logp_actions = logprobs[batch_idx , action]\n",
        "    actor_loss = -(logp_actions * advantage.detach()).mean()-0.001*entropy.mean()\n",
        "    critic_loss = F.mse_loss(target_state_value , state_value)\n",
        "    total_loss = actor_loss + critic_loss\n",
        "    self.optimizer.zero_grad()\n",
        "    total_loss.backward()\n",
        "    self.optimizer.step()"
      ],
      "metadata": {
        "id": "QijzR9593idd"
      },
      "execution_count": null,
      "outputs": []
    },
    {
      "cell_type": "markdown",
      "metadata": {
        "id": "7RnRukHDKFJ0"
      },
      "source": [
        "### Initializing the A3C agent"
      ]
    },
    {
      "cell_type": "code",
      "source": [
        "agent = Agent(number_actions)"
      ],
      "metadata": {
        "id": "vbPOax9nc9mP"
      },
      "execution_count": null,
      "outputs": []
    },
    {
      "cell_type": "markdown",
      "metadata": {
        "id": "oB5SpmoKP0aK"
      },
      "source": [
        "### Evaluating our A3C agent on a certain number of episodes"
      ]
    },
    {
      "cell_type": "code",
      "source": [
        "def evaluate(Agent , env , n_episodes =1):\n",
        "\n",
        "  episode_rewards = []\n",
        "  for _ in range(n_episodes):\n",
        "    state , _ = env.reset()\n",
        "    total_reward =0\n",
        "    while True:\n",
        "      action = agent.act(state)\n",
        "      state , reward , done , info , _ = env.step(action[0])\n",
        "      total_reward += reward\n",
        "      if done :\n",
        "        break\n",
        "    episode_rewards.append(total_reward)\n",
        "  return episode_rewards"
      ],
      "metadata": {
        "id": "S_bezij4evg5"
      },
      "execution_count": null,
      "outputs": []
    },
    {
      "cell_type": "markdown",
      "metadata": {
        "id": "jVSqiyjiQeMd"
      },
      "source": [
        "### Managing multiple environments simultaneously"
      ]
    },
    {
      "cell_type": "code",
      "source": [
        "class EnvBatch:\n",
        "\n",
        "  def __init__(self, n_envs = 10):\n",
        "    self.envs = [make_env() for _ in range(n_envs)]\n",
        "\n",
        "  def reset(self):\n",
        "    _states = []\n",
        "    for env in self.envs:\n",
        "      _states.append(env.reset()[0])\n",
        "    return np.array(_states)\n",
        "\n",
        "  def step(self, actions):\n",
        "    next_states, rewards, dones, infos, _ = map(np.array, zip(*[env.step(a) for env, a in zip(self.envs, actions)]))\n",
        "    for i in range(len(self.envs)):\n",
        "      if dones[i]:\n",
        "        next_states[i] = self.envs[i].reset()[0]\n",
        "    return next_states, rewards, dones, infos"
      ],
      "metadata": {
        "id": "R-5h1-1ufyhu"
      },
      "execution_count": null,
      "outputs": []
    },
    {
      "cell_type": "markdown",
      "metadata": {
        "id": "69WZWB4oRx1P"
      },
      "source": [
        "### Training the A3C agent"
      ]
    },
    {
      "cell_type": "code",
      "source": [
        "import tqdm\n",
        "\n",
        "env_batch = EnvBatch(number_environments)\n",
        "batch_states = env_batch.reset()\n",
        "\n",
        "with tqdm.trange(0, 3001) as progress_bar:\n",
        "  for i in progress_bar:\n",
        "    batch_actions = agent.act(batch_states)\n",
        "    batch_next_states, batch_rewards, batch_dones, _ = env_batch.step(batch_actions)\n",
        "    batch_rewards *= 0.01\n",
        "    agent.step(batch_states, batch_actions, batch_rewards, batch_next_states, batch_dones)\n",
        "    batch_states = batch_next_states\n",
        "    if i % 1000 == 0:\n",
        "      print(\"Average agent reward: \", np.mean(evaluate(agent, env, n_episodes = 10)))"
      ],
      "metadata": {
        "colab": {
          "base_uri": "https://localhost:8080/"
        },
        "id": "3x_us55HhVyc",
        "outputId": "7b0c2043-246d-4106-9611-353e6165e958"
      },
      "execution_count": null,
      "outputs": [
        {
          "output_type": "stream",
          "name": "stderr",
          "text": [
            "\r  0%|          | 0/3001 [00:00<?, ?it/s]<ipython-input-26-a6df8cff4015>:33: UserWarning: Using a target size (torch.Size([1])) that is different to the input size (torch.Size([10])). This will likely lead to incorrect results due to broadcasting. Please ensure they have the same size.\n",
            "  critic_loss = F.mse_loss(target_state_value , state_value)\n",
            "<ipython-input-26-a6df8cff4015>:12: UserWarning: Creating a tensor from a list of numpy.ndarrays is extremely slow. Please consider converting the list to a single numpy.ndarray with numpy.array() before converting to a tensor. (Triggered internally at ../torch/csrc/utils/tensor_new.cpp:261.)\n",
            "  state = torch.tensor(state , dtype=torch.float32 , device = self.device)\n",
            "  0%|          | 8/3001 [00:34<2:37:04,  3.15s/it] "
          ]
        },
        {
          "output_type": "stream",
          "name": "stdout",
          "text": [
            "Average agent reward:  550.0\n"
          ]
        },
        {
          "output_type": "stream",
          "name": "stderr",
          "text": [
            " 34%|███▎      | 1008/3001 [01:28<43:12,  1.30s/it]  "
          ]
        },
        {
          "output_type": "stream",
          "name": "stdout",
          "text": [
            "Average agent reward:  850.0\n"
          ]
        },
        {
          "output_type": "stream",
          "name": "stderr",
          "text": [
            " 67%|██████▋   | 2008/3001 [02:20<19:32,  1.18s/it]"
          ]
        },
        {
          "output_type": "stream",
          "name": "stdout",
          "text": [
            "Average agent reward:  510.0\n"
          ]
        },
        {
          "output_type": "stream",
          "name": "stderr",
          "text": [
            "100%|██████████| 3001/3001 [03:08<00:00, 15.88it/s]"
          ]
        },
        {
          "output_type": "stream",
          "name": "stdout",
          "text": [
            "Average agent reward:  630.0\n"
          ]
        },
        {
          "output_type": "stream",
          "name": "stderr",
          "text": [
            "\n"
          ]
        }
      ]
    },
    {
      "cell_type": "markdown",
      "metadata": {
        "id": "7kG_YR9YdmUM"
      },
      "source": [
        "## Part 3 - Visualizing the results"
      ]
    },
    {
      "cell_type": "code",
      "execution_count": null,
      "metadata": {
        "colab": {
          "base_uri": "https://localhost:8080/",
          "height": 494
        },
        "id": "UGkTuO6DxZ6B",
        "outputId": "49099cec-888c-42cb-f72f-c40b945a94e4"
      },
      "outputs": [
        {
          "output_type": "stream",
          "name": "stderr",
          "text": [
            "/usr/local/lib/python3.10/dist-packages/gymnasium/utils/passive_env_checker.py:335: UserWarning: \u001b[33mWARN: No render fps was declared in the environment (env.metadata['render_fps'] is None or not defined), rendering may occur at inconsistent fps.\u001b[0m\n",
            "  logger.warn(\n",
            "WARNING:imageio_ffmpeg:IMAGEIO FFMPEG_WRITER WARNING: input image is not divisible by macro_block_size=16, resizing from (160, 210) to (160, 224) to ensure video compatibility with most codecs and players. To prevent resizing, make your input image divisible by the macro_block_size or set the macro_block_size to 1 (risking incompatibility).\n"
          ]
        },
        {
          "output_type": "display_data",
          "data": {
            "text/plain": [
              "<IPython.core.display.HTML object>"
            ],
            "text/html": [
              "<video alt=\"test\" autoplay\n",
              "                loop controls style=\"height: 400px;\">\n",
              "                <source src=\"data:video/mp4;base64,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\" type=\"video/mp4\" />\n",
              "             </video>"
            ]
          },
          "metadata": {}
        }
      ],
      "source": [
        "import glob\n",
        "import io\n",
        "import base64\n",
        "import imageio\n",
        "from IPython.display import HTML, display\n",
        "from gymnasium.wrappers.monitoring.video_recorder import VideoRecorder\n",
        "\n",
        "def show_video_of_model(agent, env):\n",
        "  state, _ = env.reset()\n",
        "  done = False\n",
        "  frames = []\n",
        "  while not done:\n",
        "    frame = env.render()\n",
        "    frames.append(frame)\n",
        "    action = agent.act(state)\n",
        "    state, reward, done, _, _ = env.step(action[0])\n",
        "  env.close()\n",
        "  imageio.mimsave('video.mp4', frames, fps=30)\n",
        "\n",
        "show_video_of_model(agent, env)\n",
        "\n",
        "def show_video():\n",
        "    mp4list = glob.glob('*.mp4')\n",
        "    if len(mp4list) > 0:\n",
        "        mp4 = mp4list[0]\n",
        "        video = io.open(mp4, 'r+b').read()\n",
        "        encoded = base64.b64encode(video)\n",
        "        display(HTML(data='''<video alt=\"test\" autoplay\n",
        "                loop controls style=\"height: 400px;\">\n",
        "                <source src=\"data:video/mp4;base64,{0}\" type=\"video/mp4\" />\n",
        "             </video>'''.format(encoded.decode('ascii'))))\n",
        "    else:\n",
        "        print(\"Could not find video\")\n",
        "\n",
        "show_video()"
      ]
    }
  ],
  "metadata": {
    "accelerator": "GPU",
    "colab": {
      "provenance": []
    },
    "kernelspec": {
      "display_name": "Python 3",
      "name": "python3"
    },
    "language_info": {
      "name": "python"
    }
  },
  "nbformat": 4,
  "nbformat_minor": 0
}